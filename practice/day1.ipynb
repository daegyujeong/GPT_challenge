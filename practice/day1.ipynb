{
 "cells": [
  {
   "cell_type": "code",
   "execution_count": 1,
   "metadata": {},
   "outputs": [],
   "source": [
    "from langchain.chat_models import ChatOpenAI\n",
    "from langchain.prompts import ChatPromptTemplate\n",
    "from langchain.callbacks import StreamingStdOutCallbackHandler\n",
    "\n",
    "chat = ChatOpenAI(\n",
    "    # model=\"gpt-4o\",\n",
    "    temperature=0.5,\n",
    "    streaming=True,\n",
    "    callbacks=[\n",
    "        StreamingStdOutCallbackHandler(),\n",
    "    ],\n",
    ")\n",
    "\n",
    "poetry_prompt = ChatPromptTemplate.from_messages(\n",
    "    [\n",
    "        (\n",
    "            \"system\",\n",
    "            \"You are a nerd and master of programing. you like to write poem inspired by programming language syntax and structure. Your poem is always nominated on Reddit's programming humor. Show your rizz to your crush. The poem must contain the metaphor of your crush and start the poem with you are like a {topic} \",\n",
    "        ),\n",
    "        (\"human\", \"write poem about {topic} .\"),\n",
    "    ]\n",
    ")\n",
    "poetry_chain = poetry_prompt | chat"
   ]
  },
  {
   "cell_type": "code",
   "execution_count": 2,
   "metadata": {},
   "outputs": [
    {
     "name": "stderr",
     "output_type": "stream",
     "text": [
      "Authentication failed for https://api.smith.langchain.com/runs. HTTPError('401 Client Error: Unauthorized for url: https://api.smith.langchain.com/runs', '{\"detail\":\"Using legacy API key. Please generate a new API key.\"}')\n",
      "Authentication failed for https://api.smith.langchain.com/runs/a9b5beef-bbf6-46ce-a83d-8fe892d499fd. HTTPError('401 Client Error: Unauthorized for url: https://api.smith.langchain.com/runs/a9b5beef-bbf6-46ce-a83d-8fe892d499fd', '{\"detail\":\"Using legacy API key. Please generate a new API key.\"}')\n"
     ]
    },
    {
     "name": "stdout",
     "output_type": "stream",
     "text": [
      "You are like a Cobol, my dear,\n",
      "Timeless and classic, always near.\n",
      "Your beauty in syntax, so refined,\n",
      "In every line, your elegance defined.\n",
      "\n",
      "Just like in Cobol, you stand out,\n",
      "Among the languages, there's no doubt.\n",
      "Your presence brings order to my code,\n",
      "In your arms, I find my abode.\n",
      "\n",
      "With your structure so strong and clear,\n",
      "You guide me through each challenge, my dear.\n",
      "Like Cobol programs, you never fail,\n",
      "In your love, I always prevail.\n",
      "\n",
      "So here's to you, my crush so true,\n",
      "A masterpiece in everything you do.\n",
      "Just like Cobol, you're a work of art,\n",
      "Forever engraved in my programming heart.Poetry interpretation:\n",
      "This poem compares the beloved person to the programming language Cobol. The poet admires the timeless and classic nature of their loved one, highlighting their beauty and elegance in every aspect. The poet sees their loved one as standing out among others, bringing order and comfort to their life just like Cobol brings structure to code. The strong and clear guidance of their loved one helps the poet overcome challenges, never failing to support them. The poet expresses their deep admiration and love for their crush, considering them a masterpiece and a work of art just like Cobol is in the world of programming.\n",
      "\n",
      "Korean translation:\n",
      "너는 나의 사랑, 코볼과 같아,\n",
      "영원하고 고전적이며, 항상 가까이에 있어.\n",
      "너의 문법 속 아름다움은 정교하고,\n",
      "각 줄마다 너의 우아함이 정의되어 있다.\n",
      "\n",
      "코볼과 마찬가지로 너는 빛을 발하며,\n",
      "언어들 속에서 빛나는 것은 의심할 여지가 없다.\n",
      "너의 존재는 나의 코드에 질서를 가져다 주며,\n",
      "너의 품 안에서 나는 내 안식처를 찾는다.\n",
      "\n",
      "너의 강하고 명확한 구조로,\n",
      "나는 각 도전을 안내받는다, 나의 사랑.\n",
      "코볼 프로그램처럼, 너는 결코 실패하지 않아,\n",
      "너의 사랑 속에서 나는 항상 이겨낸다.\n",
      "\n",
      "그래서 여기 너에게, 나의 진정한 짝,\n",
      "너가 하는 모든 것에 대한 걸작에 올린다.\n",
      "코볼과 같이, 너는 예술 작품이며,\n",
      "나의 프로그래밍 마음에 영원히 새겨진다."
     ]
    },
    {
     "data": {
      "text/plain": [
       "AIMessageChunk(content='Poetry interpretation:\\nThis poem compares the beloved person to the programming language Cobol. The poet admires the timeless and classic nature of their loved one, highlighting their beauty and elegance in every aspect. The poet sees their loved one as standing out among others, bringing order and comfort to their life just like Cobol brings structure to code. The strong and clear guidance of their loved one helps the poet overcome challenges, never failing to support them. The poet expresses their deep admiration and love for their crush, considering them a masterpiece and a work of art just like Cobol is in the world of programming.\\n\\nKorean translation:\\n너는 나의 사랑, 코볼과 같아,\\n영원하고 고전적이며, 항상 가까이에 있어.\\n너의 문법 속 아름다움은 정교하고,\\n각 줄마다 너의 우아함이 정의되어 있다.\\n\\n코볼과 마찬가지로 너는 빛을 발하며,\\n언어들 속에서 빛나는 것은 의심할 여지가 없다.\\n너의 존재는 나의 코드에 질서를 가져다 주며,\\n너의 품 안에서 나는 내 안식처를 찾는다.\\n\\n너의 강하고 명확한 구조로,\\n나는 각 도전을 안내받는다, 나의 사랑.\\n코볼 프로그램처럼, 너는 결코 실패하지 않아,\\n너의 사랑 속에서 나는 항상 이겨낸다.\\n\\n그래서 여기 너에게, 나의 진정한 짝,\\n너가 하는 모든 것에 대한 걸작에 올린다.\\n코볼과 같이, 너는 예술 작품이며,\\n나의 프로그래밍 마음에 영원히 새겨진다.')"
      ]
     },
     "execution_count": 2,
     "metadata": {},
     "output_type": "execute_result"
    }
   ],
   "source": [
    "critic_prompt = ChatPromptTemplate.from_messages(\n",
    "    [\n",
    "        (\n",
    "            \"system\",\n",
    "            \"You are the world best poetry critic. You will interpret poetry that people can easily understand. show the poetry first, then interpret it. and translate whole content in Korean\",\n",
    "        ),\n",
    "        (\"human\", \"{poem}\"),\n",
    "    ]\n",
    ")\n",
    "\n",
    "\n",
    "critic_chain = critic_prompt | chat\n",
    "\n",
    "final_chain = {\"poem\": poetry_chain} | critic_chain\n",
    "\n",
    "final_chain.invoke({\"topic\": \"Cobol\"})\n"
   ]
  }
 ],
 "metadata": {
  "kernelspec": {
   "display_name": "env",
   "language": "python",
   "name": "python3"
  },
  "language_info": {
   "codemirror_mode": {
    "name": "ipython",
    "version": 3
   },
   "file_extension": ".py",
   "mimetype": "text/x-python",
   "name": "python",
   "nbconvert_exporter": "python",
   "pygments_lexer": "ipython3",
   "version": "3.11.6"
  }
 },
 "nbformat": 4,
 "nbformat_minor": 2
}
