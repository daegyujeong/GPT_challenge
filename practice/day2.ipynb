{
 "cells": [
  {
   "cell_type": "code",
   "execution_count": 1,
   "metadata": {},
   "outputs": [
    {
     "name": "stderr",
     "output_type": "stream",
     "text": [
      "Authentication failed for https://api.smith.langchain.com/runs. HTTPError('401 Client Error: Unauthorized for url: https://api.smith.langchain.com/runs', '{\"detail\":\"Using legacy API key. Please generate a new API key.\"}')\n"
     ]
    },
    {
     "name": "stdout",
     "output_type": "stream",
     "text": [
      "**Oldboy** is a South Korean neo-noir action thriller film directed by"
     ]
    },
    {
     "name": "stderr",
     "output_type": "stream",
     "text": [
      "Authentication failed for https://api.smith.langchain.com/runs/376c4b1b-baa3-4e8e-9b3d-ccec800aaedd. HTTPError('401 Client Error: Unauthorized for url: https://api.smith.langchain.com/runs/376c4b1b-baa3-4e8e-9b3d-ccec800aaedd', '{\"detail\":\"Using legacy API key. Please generate a new API key.\"}')\n"
     ]
    },
    {
     "name": "stdout",
     "output_type": "stream",
     "text": [
      " Park Chan-wook, released in 2003. It is based on the Japanese manga of the same name by Garon Tsuchiya and Nobuaki Minegishi.\n",
      "\n",
      "- **Director:** Park Chan-wook\n",
      "- **Stars:** Choi Min-sik, Yoo Ji-tae, Kang Hye-jung\n",
      "- **Budget:** Approximately $3 million\n",
      "- **Worldwide Gross:** Approximately $15 million\n",
      "- **Genres:** Action, Thriller, Mystery\n",
      "- **Summary:** The film follows Oh Dae-su, a man who is inexplicably imprisoned in a cell for 15 years without knowing his captor's motives. Upon his release, he embarks on a quest for vengeance and to uncover the truth behind his imprisonment, leading him down a dark and twisted path filled with shocking revelations.\n",
      "- **Review:** Oldboy is renowned for its intense storytelling, striking visuals, and a haunting score. The film's exploration of themes such as revenge, isolation, and the nature of fate is both compelling and disturbing. Choi Min-sik delivers a powerful performance, and the film is particularly noted for its iconic action sequences, including a famous one-take corridor fight. Oldboy is often regarded as a modern classic and a significant work in the South Korean cinema renaissance."
     ]
    },
    {
     "data": {
      "text/plain": [
       "AIMessageChunk(content=\"**Oldboy** is a South Korean neo-noir action thriller film directed by Park Chan-wook, released in 2003. It is based on the Japanese manga of the same name by Garon Tsuchiya and Nobuaki Minegishi.\\n\\n- **Director:** Park Chan-wook\\n- **Stars:** Choi Min-sik, Yoo Ji-tae, Kang Hye-jung\\n- **Budget:** Approximately $3 million\\n- **Worldwide Gross:** Approximately $15 million\\n- **Genres:** Action, Thriller, Mystery\\n- **Summary:** The film follows Oh Dae-su, a man who is inexplicably imprisoned in a cell for 15 years without knowing his captor's motives. Upon his release, he embarks on a quest for vengeance and to uncover the truth behind his imprisonment, leading him down a dark and twisted path filled with shocking revelations.\\n- **Review:** Oldboy is renowned for its intense storytelling, striking visuals, and a haunting score. The film's exploration of themes such as revenge, isolation, and the nature of fate is both compelling and disturbing. Choi Min-sik delivers a powerful performance, and the film is particularly noted for its iconic action sequences, including a famous one-take corridor fight. Oldboy is often regarded as a modern classic and a significant work in the South Korean cinema renaissance.\")"
      ]
     },
     "execution_count": 1,
     "metadata": {},
     "output_type": "execute_result"
    }
   ],
   "source": [
    "from langchain.chat_models import ChatOpenAI\n",
    "from langchain.prompts import example_selector\n",
    "from langchain.prompts.few_shot import FewShotPromptTemplate\n",
    "from langchain.callbacks import StreamingStdOutCallbackHandler\n",
    "from langchain.prompts.prompt import PromptTemplate\n",
    "from langchain.prompts.example_selector.base import BaseExampleSelector\n",
    "\n",
    "\n",
    "chat = ChatOpenAI(\n",
    "    model=\"gpt-4o-mini\",\n",
    "    temperature=0.1,\n",
    "    streaming=True,\n",
    "    callbacks=[\n",
    "        StreamingStdOutCallbackHandler(),\n",
    "    ],\n",
    ")\n",
    "\n",
    "\n",
    "examples = [\n",
    "    {\n",
    "        \"question\": \"Do you know the movie named Train to Busan?\",\n",
    "        \"answer\": \"\"\"\n",
    "        Director: Yeon Sang-ho\n",
    "        Stars: Gong Yoo, Jung Yu-mi, Ma Dong-seok\n",
    "        Budget: $16M (estimated)\n",
    "        Worldwide Gross: $233.734M\n",
    "        Genres: Zombie Thriller Action\n",
    "        Summary: A man (Gong Yoo), his estranged daughter and other passengers become trapped on a speeding train during a zombie outbreak in South Korea.\n",
    "        Review: The walking dead meets Snowpiercer but in Korea, it delivers too. It’s on par if not better than most of it’s Hollywood zombie apocalypse counterparts. It’s a great action flick, it’s paced well so it has your attention drawn throughout and the end is somewhat emotional. Not everyone can make it sorta thing, but it is a hopeful conclusion. An emotional zombie flick.\n",
    "        \"\"\",\n",
    "    },\n",
    "    {\n",
    "        \"question\": \"Do you know the movie named Inception?\",\n",
    "        \"answer\": \"\"\"\n",
    "        Director: Christopher Nolan\n",
    "        Stars: Leonardo DiCaprio, Joseph Gordon-Levitt, Ellen Page\n",
    "        Budget: $160M (estimated)\n",
    "        Worldwide Gross: $829.895M\n",
    "        Genres: Action, Sci-Fi, Thriller\n",
    "        Summary: A thief who steals corporate secrets through the use of dream-sharing technology is given the inverse task of planting an idea into the mind of a CEO.\n",
    "        Review: Inception is a masterpiece of narrative complexity, weaving together multiple layers of reality with a precision that's both intellectually stimulating and emotionally gripping. Nolan's direction is meticulous, and the performances, especially DiCaprio's, are top-notch. The visual effects are groundbreaking, and the score is unforgettable. A film that challenges viewers to question the nature of reality.\n",
    "        \"\"\",\n",
    "    },\n",
    "    {\n",
    "    \"question\": \"Do you know the movie named Avengers: Endgame?\",\n",
    "    \"answer\": \"\"\"\n",
    "    Directors: Anthony Russo, Joe Russo\n",
    "    Stars: Robert Downey Jr., Chris Evans, Mark Ruffalo\n",
    "    Budget: $356M (estimated)\n",
    "    Worldwide Gross: $2.798B\n",
    "    Genres: Action, Adventure, Drama\n",
    "    Summary: After the devastating events of Avengers: Infinity War (2018), the universe is in ruins. With the help of remaining allies, the Avengers assemble once more in order to reverse Thanos' actions and restore balance to the universe.\n",
    "    Review: Avengers: Endgame is not just a movie; it's an epic culmination of over a decade of Marvel Cinematic Universe films. It's a story of sacrifice, heroism, and redemption that pays off the emotional and narrative investment of 22 films. The directors, the Russo Brothers, have masterfully woven together multiple storylines, delivering an emotionally charged and action-packed finale. The performances are powerful, the visual effects are spectacular, and the narrative is both satisfying and heart-wrenching. Endgame serves as a fitting farewell to some of Marvel's most beloved characters, leaving audiences both cheering and in tears.\n",
    "    \"\"\",\n",
    "    }\n",
    "\n",
    "\n",
    "\n",
    "]\n",
    "\n",
    "class RandomExampleSelector(BaseExampleSelector):\n",
    "    def __init__(self, examples):\n",
    "        self.examples = examples\n",
    "\n",
    "    def add_example(self, example):\n",
    "        self.examples.append(example)\n",
    "\n",
    "    def select_examples(self, input_variables):\n",
    "        from random import choice\n",
    "\n",
    "        return [choice(self.examples)]\n",
    "\n",
    "\n",
    "example_prompt = PromptTemplate.from_template(\"Human: {question}\\nAI:{answer}\")\n",
    "example_selector = RandomExampleSelector(\n",
    "    examples=examples,\n",
    ")\n",
    "prompt = FewShotPromptTemplate(\n",
    "    example_prompt=example_prompt,\n",
    "    example_selector=example_selector,\n",
    "    suffix=\"Human: What do you know about the movie named {movie}?\",\n",
    "    input_variables=[\"movie\"],\n",
    ")\n",
    "chain = prompt | chat\n",
    "\n",
    "chain.invoke({\"movie\": \"Oldboy\"})"
   ]
  }
 ],
 "metadata": {
  "kernelspec": {
   "display_name": "env",
   "language": "python",
   "name": "python3"
  },
  "language_info": {
   "codemirror_mode": {
    "name": "ipython",
    "version": 3
   },
   "file_extension": ".py",
   "mimetype": "text/x-python",
   "name": "python",
   "nbconvert_exporter": "python",
   "pygments_lexer": "ipython3",
   "version": "3.11.6"
  }
 },
 "nbformat": 4,
 "nbformat_minor": 2
}
